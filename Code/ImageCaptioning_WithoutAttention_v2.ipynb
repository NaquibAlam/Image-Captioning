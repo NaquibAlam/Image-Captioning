{
 "cells": [
  {
   "cell_type": "code",
   "execution_count": 6,
   "metadata": {
    "_cell_guid": "b1076dfc-b9ad-4769-8c92-a6c4dae69d19",
    "_uuid": "8f2839f25d086af736a60e9eeb907d3b93b6e0e5"
   },
   "outputs": [
    {
     "name": "stderr",
     "output_type": "stream",
     "text": [
      "/libs/base/h5py/__init__.py:36: FutureWarning: Conversion of the second argument of issubdtype from `float` to `np.floating` is deprecated. In future, it will be treated as `np.float64 == np.dtype(float).type`.\n",
      "  from ._conv import register_converters as _register_converters\n",
      "Using TensorFlow backend.\n"
     ]
    }
   ],
   "source": [
    "import numpy as np\n",
    "from numpy import array\n",
    "import pandas as pd\n",
    "import matplotlib.pyplot as plt\n",
    "%matplotlib inline\n",
    "import string\n",
    "import os\n",
    "import re\n",
    "from PIL import Image\n",
    "import glob\n",
    "import seaborn as sns\n",
    "import pickle, operator\n",
    "from itertools import chain\n",
    "from collections import Counter\n",
    "from random import shuffle\n",
    "from time import time\n",
    "from sklearn.model_selection import train_test_split\n",
    "from IPython.display import clear_output\n",
    "from time import time\n",
    "from keras.preprocessing import sequence\n",
    "import keras.backend as K\n",
    "from keras.models import Sequential\n",
    "from keras.layers import LSTM, GRU, Embedding, TimeDistributed, Dense, RepeatVector,\\\n",
    "                         Activation, Flatten, Reshape, concatenate, Dropout, BatchNormalization, SpatialDropout1D\n",
    "from keras.optimizers import Adam, RMSprop\n",
    "from keras.layers.wrappers import Bidirectional\n",
    "from keras.layers.merge import add\n",
    "from keras.applications.inception_v3 import InceptionV3\n",
    "from keras.preprocessing import image\n",
    "from keras.models import Model\n",
    "from keras import Input, layers\n",
    "from keras import optimizers\n",
    "from keras.applications.inception_v3 import InceptionV3, preprocess_input\n",
    "from keras.preprocessing.text import Tokenizer\n",
    "from keras.preprocessing.sequence import pad_sequences\n",
    "from keras.callbacks import ModelCheckpoint, ReduceLROnPlateau, TensorBoard, Callback\n",
    "from keras.utils import to_categorical\n",
    "\n",
    "# from wordcloud import WordCloud ,STOPWORDS\n",
    "import nltk\n",
    "from nltk.corpus import stopwords\n",
    "# import spacy\n",
    "from nltk import pos_tag\n",
    "from nltk.stem.wordnet import WordNetLemmatizer \n",
    "from nltk.tokenize import word_tokenize\n",
    "# Tweet tokenizer does not split at apostophes which is what we want\n",
    "from nltk.tokenize import TweetTokenizer   \n",
    "from keras.preprocessing.text import Tokenizer"
   ]
  },
  {
   "cell_type": "code",
   "execution_count": 7,
   "metadata": {},
   "outputs": [
    {
     "name": "stdout",
     "output_type": "stream",
     "text": [
      "[nltk_data] Downloading package stopwords to\n",
      "[nltk_data]     /home/jupyter/nltk_data...\n",
      "[nltk_data]   Package stopwords is already up-to-date!\n",
      "[nltk_data] Downloading package wordnet to /home/jupyter/nltk_data...\n",
      "[nltk_data]   Package wordnet is already up-to-date!\n"
     ]
    }
   ],
   "source": [
    "\n",
    "from nltk.stem import PorterStemmer\n",
    "ps = PorterStemmer()\n",
    "from nltk.stem.lancaster import LancasterStemmer\n",
    "lc = LancasterStemmer()\n",
    "from nltk.stem import SnowballStemmer\n",
    "sb = SnowballStemmer(\"english\")\n",
    "lem = WordNetLemmatizer()\n",
    "nltk.download('stopwords')\n",
    "nltk.download('wordnet')\n",
    "stop_words = set(stopwords.words('english'))\n",
    "color = sns.color_palette()"
   ]
  },
  {
   "cell_type": "code",
   "execution_count": 8,
   "metadata": {
    "_cell_guid": "79c7e3d0-c299-4dcb-8224-4455121ee9b0",
    "_uuid": "d629ff2d2480ee46fbb7e2d37f6b5fab8052498a"
   },
   "outputs": [
    {
     "name": "stdout",
     "output_type": "stream",
     "text": [
      "ls: cannot access /kaggle/input/flickr-image-dataset/flickr30k_images/flickr30k_images/: No such file or directory\n",
      "0\n"
     ]
    }
   ],
   "source": [
    "!ls /kaggle/input/flickr-image-dataset/flickr30k_images/flickr30k_images/ | wc -l\n",
    "# ! head /kaggle/input/flickr-image-dataset/flickr30k_images/results.csv"
   ]
  },
  {
   "cell_type": "code",
   "execution_count": 44,
   "metadata": {},
   "outputs": [],
   "source": [
    "TEST_PERC= 0.05\n",
    "VAL_PERC= 0.2\n",
    "IMAGE_SIZE= 299\n",
    "WORD_COUNT_THRESH= 5\n",
    "EMBEDDING_FILE = 'Data/crawl-300d-2M.vec'\n",
    "EMBEDDING_DIM= 300\n",
    "MAX_VOCAB_SIZE= 20000\n",
    "DENSE_HIDDEN_UNITS = 256\n",
    "LSTM_UNITS= 256\n",
    "NUM_IMGS_PER_BATCH = 10\n",
    "N_EPOCHS= 1\n",
    "INIT_LR= 5e-3"
   ]
  },
  {
   "cell_type": "code",
   "execution_count": 10,
   "metadata": {},
   "outputs": [
    {
     "name": "stdout",
     "output_type": "stream",
     "text": [
      "Index(['image_name', ' comment_number', ' comment'], dtype='object') (158915, 3)\n",
      "Index(['image_name', 'comment_number', 'comment'], dtype='object')\n"
     ]
    },
    {
     "data": {
      "text/html": [
       "<div>\n",
       "<style>\n",
       "    .dataframe thead tr:only-child th {\n",
       "        text-align: right;\n",
       "    }\n",
       "\n",
       "    .dataframe thead th {\n",
       "        text-align: left;\n",
       "    }\n",
       "\n",
       "    .dataframe tbody tr th {\n",
       "        vertical-align: top;\n",
       "    }\n",
       "</style>\n",
       "<table border=\"1\" class=\"dataframe\">\n",
       "  <thead>\n",
       "    <tr style=\"text-align: right;\">\n",
       "      <th></th>\n",
       "      <th>image_name</th>\n",
       "      <th>comment_number</th>\n",
       "      <th>comment</th>\n",
       "    </tr>\n",
       "  </thead>\n",
       "  <tbody>\n",
       "    <tr>\n",
       "      <th>0</th>\n",
       "      <td>1000092795.jpg</td>\n",
       "      <td>0</td>\n",
       "      <td>Two young guys with shaggy hair look at their...</td>\n",
       "    </tr>\n",
       "    <tr>\n",
       "      <th>1</th>\n",
       "      <td>1000092795.jpg</td>\n",
       "      <td>1</td>\n",
       "      <td>Two young , White males are outside near many...</td>\n",
       "    </tr>\n",
       "    <tr>\n",
       "      <th>2</th>\n",
       "      <td>1000092795.jpg</td>\n",
       "      <td>2</td>\n",
       "      <td>Two men in green shirts are standing in a yard .</td>\n",
       "    </tr>\n",
       "    <tr>\n",
       "      <th>3</th>\n",
       "      <td>1000092795.jpg</td>\n",
       "      <td>3</td>\n",
       "      <td>A man in a blue shirt standing in a garden .</td>\n",
       "    </tr>\n",
       "    <tr>\n",
       "      <th>4</th>\n",
       "      <td>1000092795.jpg</td>\n",
       "      <td>4</td>\n",
       "      <td>Two friends enjoy time spent together .</td>\n",
       "    </tr>\n",
       "  </tbody>\n",
       "</table>\n",
       "</div>"
      ],
      "text/plain": [
       "       image_name comment_number  \\\n",
       "0  1000092795.jpg              0   \n",
       "1  1000092795.jpg              1   \n",
       "2  1000092795.jpg              2   \n",
       "3  1000092795.jpg              3   \n",
       "4  1000092795.jpg              4   \n",
       "\n",
       "                                             comment  \n",
       "0   Two young guys with shaggy hair look at their...  \n",
       "1   Two young , White males are outside near many...  \n",
       "2   Two men in green shirts are standing in a yard .  \n",
       "3       A man in a blue shirt standing in a garden .  \n",
       "4            Two friends enjoy time spent together .  "
      ]
     },
     "execution_count": 10,
     "metadata": {},
     "output_type": "execute_result"
    }
   ],
   "source": [
    "base_dir = \"Data/flickr30k_images/\"\n",
    "caption_df=pd.read_csv(base_dir+\"results.csv\", sep= \"|\")\n",
    "print(caption_df.columns, caption_df.shape)\n",
    "caption_df.columns= [x.strip() for x in caption_df.columns] #stripping whitesapces from column names\n",
    "caption_df[\"comment\"]= caption_df[\"comment\"].astype(str)\n",
    "print(caption_df.columns)\n",
    "caption_df.head()"
   ]
  },
  {
   "cell_type": "code",
   "execution_count": 11,
   "metadata": {},
   "outputs": [
    {
     "data": {
      "text/plain": [
       "(5, 5)"
      ]
     },
     "execution_count": 11,
     "metadata": {},
     "output_type": "execute_result"
    }
   ],
   "source": [
    "caption_cnt= caption_df.image_name.value_counts()\n",
    "max(caption_cnt), min(caption_cnt)"
   ]
  },
  {
   "cell_type": "markdown",
   "metadata": {},
   "source": [
    "As we can see in the above cell that all the images have 5 captions, no more no less.\n"
   ]
  },
  {
   "cell_type": "code",
   "execution_count": 12,
   "metadata": {},
   "outputs": [
    {
     "name": "stdout",
     "output_type": "stream",
     "text": [
      "31783 31783\n",
      "[]\n"
     ]
    }
   ],
   "source": [
    "all_images= glob.glob(base_dir+\"flickr30k_images/\"+\"*.jpg\") #This gives the entire directory for a file\n",
    "all_images_names = [x.split(\"/\")[-1] for x in all_images] #here we are extracting just the filenames\n",
    "uncommon_images= list(set(all_images_names) - set (caption_df.image_name.tolist()))\n",
    "print(len(all_images), len(caption_df.image_name.unique()))\n",
    "print(uncommon_images)"
   ]
  },
  {
   "cell_type": "markdown",
   "metadata": {},
   "source": [
    "As we can see in the above cell that, there are equal number of images in both CSV and JPG folder and there are no uncommon element between these two. It shows that for all the JPG images, there are 5 captions in the csv file. "
   ]
  },
  {
   "cell_type": "markdown",
   "metadata": {},
   "source": [
    "> ## Data Pre-processing"
   ]
  },
  {
   "cell_type": "markdown",
   "metadata": {},
   "source": [
    "As part of data pre-processing, we do the following:\n",
    "\n",
    "* convert to lowercase\n",
    "* remove punctuations\n",
    "* replace contractions with its expansions\n",
    "* remove words which have numbers in them\n",
    "* add __startseq__ and __endseq__ token for identifying start and end of the caption respectively."
   ]
  },
  {
   "cell_type": "code",
   "execution_count": 13,
   "metadata": {},
   "outputs": [],
   "source": [
    "contraction_map = {\"ain't\": \"is not\", \"aren't\": \"are not\",\"can't\": \"cannot\", \"'cause\": \"because\", \"could've\": \"could have\", \n",
    "                       \"couldn't\": \"could not\", \"didn't\": \"did not\",  \"doesn't\": \"does not\", \"don't\": \"do not\", \"hadn't\": \"had not\", \n",
    "                       \"hasn't\": \"has not\", \"haven't\": \"have not\", \"he'd\": \"he would\",\"he'll\": \"he will\", \"he's\": \"he is\", \"how'd\": \"how did\", \n",
    "                       \"how'd'y\": \"how do you\", \"how'll\": \"how will\", \"how's\": \"how is\",  \"I'd\": \"I would\", \"I'd've\": \"I would have\", \"I'll\": \"I will\", \n",
    "                       \"I'll've\": \"I will have\",\"I'm\": \"I am\", \"I've\": \"I have\", \"i'd\": \"i would\", \"i'd've\": \"i would have\", \"i'll\": \"i will\",  \n",
    "                       \"i'll've\": \"i will have\",\"i'm\": \"i am\", \"i've\": \"i have\", \"isn't\": \"is not\", \"it'd\": \"it would\", \"it'd've\": \"it would have\", \n",
    "                       \"it'll\": \"it will\", \"it'll've\": \"it will have\",\"it's\": \"it is\", \"let's\": \"let us\", \"ma'am\": \"madam\", \"mayn't\": \"may not\", \n",
    "                       \"might've\": \"might have\",\"mightn't\": \"might not\",\"mightn't've\": \"might not have\", \"must've\": \"must have\", \"mustn't\": \"must not\",\n",
    "                       \"mustn't've\": \"must not have\", \"needn't\": \"need not\", \"needn't've\": \"need not have\",\"o'clock\": \"of the clock\", \"oughtn't\": \"ought not\",\n",
    "                       \"oughtn't've\": \"ought not have\", \"shan't\": \"shall not\", \"sha'n't\": \"shall not\", \"shan't've\": \"shall not have\", \n",
    "                       \"she'd\": \"she would\", \"she'd've\": \"she would have\", \"she'll\": \"she will\", \"she'll've\": \"she will have\", \"she's\": \"she is\",\n",
    "                       \"should've\": \"should have\", \"shouldn't\": \"should not\", \"shouldn't've\": \"should not have\", \"so've\": \"so have\",\"so's\": \"so as\",\n",
    "                       \"this's\": \"this is\",\"that'd\": \"that would\", \"that'd've\": \"that would have\", \"that's\": \"that is\", \"there'd\": \"there would\", \n",
    "                       \"there'd've\": \"there would have\", \"there's\": \"there is\", \"here's\": \"here is\",\"they'd\": \"they would\", \"they'd've\": \"they would have\", \n",
    "                       \"they'll\": \"they will\", \"they'll've\": \"they will have\", \"they're\": \"they are\", \"they've\": \"they have\", \"to've\": \"to have\",\n",
    "                       \"wasn't\": \"was not\", \"we'd\": \"we would\", \"we'd've\": \"we would have\", \"we'll\": \"we will\", \"we'll've\": \"we will have\", \n",
    "                       \"we're\": \"we are\", \"we've\": \"we have\", \"weren't\": \"were not\", \"what'll\": \"what will\", \"what'll've\": \"what will have\", \n",
    "                       \"what're\": \"what are\",  \"what's\": \"what is\", \"what've\": \"what have\", \"when's\": \"when is\", \"when've\": \"when have\", \n",
    "                       \"where'd\": \"where did\", \"where's\": \"where is\", \"where've\": \"where have\", \"who'll\": \"who will\", \"who'll've\": \"who will have\",\n",
    "                       \"who's\": \"who is\", \"who've\": \"who have\", \"why's\": \"why is\", \"why've\": \"why have\", \"will've\": \"will have\", \"won't\": \"will not\",\n",
    "                       \"won't've\": \"will not have\", \"would've\": \"would have\", \"wouldn't\": \"would not\", \"wouldn't've\": \"would not have\",\n",
    "                       \"y'all\": \"you all\", \"y'all'd\": \"you all would\",\"y'all'd've\": \"you all would have\",\"y'all're\": \"you all are\", \"y'all've\": \"you all have\",\n",
    "                       \"you'd\": \"you would\", \"you'd've\": \"you would have\", \"you'll\": \"you will\", \"you'll've\": \"you will have\", \"you're\": \"you are\",\n",
    "                       \"you've\": \"you have\" }"
   ]
  },
  {
   "cell_type": "code",
   "execution_count": 14,
   "metadata": {},
   "outputs": [],
   "source": [
    "# this function contain the code for basic text cleaning.\n",
    "#since this is a text generation problem, we should not remove stopwords and do any lemmatization and stemming.\n",
    "def do_cleaning(x, contraction_map):\n",
    "    tokenizer=TweetTokenizer() #this is a robust tokenizer than just splitting on spaces.\n",
    "    x = str(x)\n",
    "    x= x.lower()\n",
    "    \n",
    "    #we are not removing apostraphes here because we have to expand these later using contraction_map.\n",
    "    for punct in \"/-\":\n",
    "        x = x.replace(punct, ' ')\n",
    "    for punct in '&':\n",
    "        x = x.replace(punct, ' and ')\n",
    "    for punct in '?!.,\"#$%\\()*+-/:;<=>@[\\\\]^_`{|}~' + '“”’\\n':\n",
    "        x = x.replace(punct, ' ')\n",
    "    x= re.sub(r'\\w*\\d\\w*', '', x) #remove words which have numbers in them\n",
    "    x= re.sub(r' +', r' ', x) #replace more than one space with a single space\n",
    "    x= x.strip(' ')\n",
    "    \n",
    "    words=tokenizer.tokenize(x)\n",
    "    \n",
    "    # (')aphostophe  replacement (ie)   you're --> you are  \n",
    "    # ( basic dictionary lookup : master dictionary present in a hidden block of code)\n",
    "    words=[contraction_map[word] if word in contraction_map else word for word in words]\n",
    "    # remove tokens with numbers in them\n",
    "    #after expanding contractions, for one word there could be more than one words.  that's why is nested for is used below.\n",
    "    words = [y for x in words for y in x.split(\" \") if not y.isdigit()]\n",
    "    clean_caption=\" \".join(words)\n",
    "    clean_caption= \"startseq \"+ clean_caption + \" endseq\" #add startseq and endseq in the cpations\n",
    "    clean_caption= re.sub(r\"'[a-zA-Z ]\", r'', clean_caption) #remove apostraphe which could be before whitespace or s. e.g: mohammad's naquib' room\n",
    "    return clean_caption\n",
    "\n",
    "caption_df['comment_clean']= caption_df['comment'].apply(lambda x: do_cleaning (x, contraction_map))"
   ]
  },
  {
   "cell_type": "code",
   "execution_count": 15,
   "metadata": {},
   "outputs": [],
   "source": [
    "###### run this cell for testing all the functionalities of do_cleaning function ###########\n",
    "# x= \"my/name: ,is, length:rope room#200 viva-voce naquib&  won't mohammad's naquib' rooom shan't we'd've alam199?!    mynaq nbhsvmjjbwd igeyu3ge675 2het ewnd ehdvdw bndehd 165naquib 887666      \"\n",
    "# do_cleaning(x, contraction_map)"
   ]
  },
  {
   "cell_type": "markdown",
   "metadata": {},
   "source": [
    "> ## distribtution of length of captions"
   ]
  },
  {
   "cell_type": "code",
   "execution_count": 16,
   "metadata": {},
   "outputs": [],
   "source": [
    "caption_df[\"comment_clean\"]= caption_df[\"comment_clean\"].str.strip()\n",
    "caption_df[\"n_chars\"]= caption_df[\"comment_clean\"].apply(len)\n",
    "caption_df[\"n_words\"]= caption_df[\"comment_clean\"].apply(lambda x:len(x.split(\" \")))"
   ]
  },
  {
   "cell_type": "code",
   "execution_count": 17,
   "metadata": {},
   "outputs": [
    {
     "data": {
      "text/html": [
       "<div>\n",
       "<style>\n",
       "    .dataframe thead tr:only-child th {\n",
       "        text-align: right;\n",
       "    }\n",
       "\n",
       "    .dataframe thead th {\n",
       "        text-align: left;\n",
       "    }\n",
       "\n",
       "    .dataframe tbody tr th {\n",
       "        vertical-align: top;\n",
       "    }\n",
       "</style>\n",
       "<table border=\"1\" class=\"dataframe\">\n",
       "  <thead>\n",
       "    <tr style=\"text-align: right;\">\n",
       "      <th></th>\n",
       "      <th>image_name</th>\n",
       "      <th>comment_number</th>\n",
       "      <th>comment</th>\n",
       "      <th>comment_clean</th>\n",
       "      <th>n_chars</th>\n",
       "      <th>n_words</th>\n",
       "    </tr>\n",
       "  </thead>\n",
       "  <tbody>\n",
       "    <tr>\n",
       "      <th>0</th>\n",
       "      <td>1000092795.jpg</td>\n",
       "      <td>0</td>\n",
       "      <td>Two young guys with shaggy hair look at their...</td>\n",
       "      <td>startseq two young guys with shaggy hair look ...</td>\n",
       "      <td>97</td>\n",
       "      <td>18</td>\n",
       "    </tr>\n",
       "    <tr>\n",
       "      <th>1</th>\n",
       "      <td>1000092795.jpg</td>\n",
       "      <td>1</td>\n",
       "      <td>Two young , White males are outside near many...</td>\n",
       "      <td>startseq two young white males are outside nea...</td>\n",
       "      <td>66</td>\n",
       "      <td>11</td>\n",
       "    </tr>\n",
       "    <tr>\n",
       "      <th>2</th>\n",
       "      <td>1000092795.jpg</td>\n",
       "      <td>2</td>\n",
       "      <td>Two men in green shirts are standing in a yard .</td>\n",
       "      <td>startseq two men in green shirts are standing ...</td>\n",
       "      <td>62</td>\n",
       "      <td>12</td>\n",
       "    </tr>\n",
       "    <tr>\n",
       "      <th>3</th>\n",
       "      <td>1000092795.jpg</td>\n",
       "      <td>3</td>\n",
       "      <td>A man in a blue shirt standing in a garden .</td>\n",
       "      <td>startseq a man in a blue shirt standing in a g...</td>\n",
       "      <td>58</td>\n",
       "      <td>12</td>\n",
       "    </tr>\n",
       "    <tr>\n",
       "      <th>4</th>\n",
       "      <td>1000092795.jpg</td>\n",
       "      <td>4</td>\n",
       "      <td>Two friends enjoy time spent together .</td>\n",
       "      <td>startseq two friends enjoy time spent together...</td>\n",
       "      <td>53</td>\n",
       "      <td>8</td>\n",
       "    </tr>\n",
       "  </tbody>\n",
       "</table>\n",
       "</div>"
      ],
      "text/plain": [
       "       image_name comment_number  \\\n",
       "0  1000092795.jpg              0   \n",
       "1  1000092795.jpg              1   \n",
       "2  1000092795.jpg              2   \n",
       "3  1000092795.jpg              3   \n",
       "4  1000092795.jpg              4   \n",
       "\n",
       "                                             comment  \\\n",
       "0   Two young guys with shaggy hair look at their...   \n",
       "1   Two young , White males are outside near many...   \n",
       "2   Two men in green shirts are standing in a yard .   \n",
       "3       A man in a blue shirt standing in a garden .   \n",
       "4            Two friends enjoy time spent together .   \n",
       "\n",
       "                                       comment_clean  n_chars  n_words  \n",
       "0  startseq two young guys with shaggy hair look ...       97       18  \n",
       "1  startseq two young white males are outside nea...       66       11  \n",
       "2  startseq two men in green shirts are standing ...       62       12  \n",
       "3  startseq a man in a blue shirt standing in a g...       58       12  \n",
       "4  startseq two friends enjoy time spent together...       53        8  "
      ]
     },
     "execution_count": 17,
     "metadata": {},
     "output_type": "execute_result"
    }
   ],
   "source": [
    "caption_df.head()"
   ]
  },
  {
   "cell_type": "code",
   "execution_count": 18,
   "metadata": {},
   "outputs": [
    {
     "data": {
      "image/png": "[encoded data removed]",
      "text/plain": [
       "<matplotlib.figure.Figure at 0x7fb4a0631978>"
      ]
     },
     "metadata": {},
     "output_type": "display_data"
    }
   ],
   "source": [
    "fig, axes = plt.subplots(1, 2, figsize= (20,8))\n",
    "sns.distplot(caption_df[\"n_chars\"], bins=20, kde= False, ax= axes[0], color= \"red\")\n",
    "sns.distplot(caption_df[\"n_words\"], bins=20, kde= False, ax= axes[1], color= 'green')\n",
    "axes[0].set_title('Histogram for length of comments', fontsize=20, weight= 'bold')\n",
    "axes[0].set_xlabel('Length of comments', fontsize=17, weight= 'bold')\n",
    "axes[0].set_ylabel('Number of comments', fontsize=17, weight= 'bold')\n",
    "axes[0].grid(axis='y', alpha= 0.7)\n",
    "axes[0].tick_params(axis='both', which='major', labelsize=17)\n",
    "axes[1].set_xlabel('Number of words', fontsize=17, weight= 'bold')\n",
    "axes[1].set_ylabel('', fontsize=15)\n",
    "axes[1].set_title('Histogram for number of words in the comments', fontsize=20, weight= 'bold')\n",
    "axes[1].grid(axis='y', alpha= 0.7)\n",
    "axes[1].tick_params(axis='both', which='major', labelsize=17)\n",
    "\n",
    "# rects = axes[0].patches\n",
    "# bins = np.arange(0, 5500, 500)\n",
    "# bin_range= pd.cut(caption_df['n_chars'], bins= bins)\n",
    "# labels = bin_range.value_counts().values\n",
    "# for rect, label in zip(rects, labels):\n",
    "#     height = rect.get_height()\n",
    "#     axes[0].text(rect.get_x() + rect.get_width()/2, height + 5, label, ha='center', va='bottom', fontsize= 19)\n",
    "\n",
    "    \n",
    "# rects = axes[1].patches\n",
    "# bins = np.arange(0, 1400, 150)\n",
    "# bin_range= pd.cut(caption_df['n_words'], bins= bins)\n",
    "# labels = bin_range.value_counts().values  \n",
    "# for rect, label in zip(rects, labels):\n",
    "#     height = rect.get_height()\n",
    "#     axes[1].text(rect.get_x() + rect.get_width()/2, height + 5, label, ha='center', va='bottom', fontsize= 19)\n",
    "    \n",
    "fig.tight_layout()"
   ]
  },
  {
   "cell_type": "markdown",
   "metadata": {},
   "source": [
    "From above plots it can be seen that, most of the captions have length between 25 and 150, number of words between 5 and 30."
   ]
  },
  {
   "cell_type": "code",
   "execution_count": 19,
   "metadata": {},
   "outputs": [],
   "source": [
    "# def make_wordcloud(text, axes, fontsize):\n",
    "#     stopwords = set(STOPWORDS)\n",
    "#     wordcloud = WordCloud(\n",
    "#                           background_color='black',\n",
    "#                           stopwords=stopwords,\n",
    "#                           max_words=2000,\n",
    "#                           collocations = False,\n",
    "#                           max_font_size=fontsize, \n",
    "#                           random_state=42\n",
    "#                          ).generate(text)\n",
    "    \n",
    "#     axes.imshow(wordcloud)\n",
    "#     plt.axis('off')\n",
    "\n",
    "# fig, axes = plt.subplots(1,1, figsize= (20,8))\n",
    "# make_wordcloud(caption_df['comment'].str.cat(sep= ' '), axes, fontsize= 20)\n",
    "# axes.set_title(\"Wordcloud of all captions\", fontsize=20, weight= 'bold')\n",
    "# plt.tight_layout()\n",
    "# plt.show()\n"
   ]
  },
  {
   "cell_type": "code",
   "execution_count": 20,
   "metadata": {},
   "outputs": [
    {
     "name": "stdout",
     "output_type": "stream",
     "text": [
      "(31783, 2) Index(['image_name', 'captions'], dtype='object')\n"
     ]
    },
    {
     "data": {
      "text/html": [
       "<div>\n",
       "<style>\n",
       "    .dataframe thead tr:only-child th {\n",
       "        text-align: right;\n",
       "    }\n",
       "\n",
       "    .dataframe thead th {\n",
       "        text-align: left;\n",
       "    }\n",
       "\n",
       "    .dataframe tbody tr th {\n",
       "        vertical-align: top;\n",
       "    }\n",
       "</style>\n",
       "<table border=\"1\" class=\"dataframe\">\n",
       "  <thead>\n",
       "    <tr style=\"text-align: right;\">\n",
       "      <th></th>\n",
       "      <th>image_name</th>\n",
       "      <th>captions</th>\n",
       "    </tr>\n",
       "  </thead>\n",
       "  <tbody>\n",
       "    <tr>\n",
       "      <th>0</th>\n",
       "      <td>1000092795.jpg</td>\n",
       "      <td>[startseq two young guys with shaggy hair look...</td>\n",
       "    </tr>\n",
       "    <tr>\n",
       "      <th>1</th>\n",
       "      <td>10002456.jpg</td>\n",
       "      <td>[startseq several men in hard hats are operati...</td>\n",
       "    </tr>\n",
       "    <tr>\n",
       "      <th>2</th>\n",
       "      <td>1000268201.jpg</td>\n",
       "      <td>[startseq a child in a pink dress is climbing ...</td>\n",
       "    </tr>\n",
       "    <tr>\n",
       "      <th>3</th>\n",
       "      <td>1000344755.jpg</td>\n",
       "      <td>[startseq someone in a blue shirt and hat is s...</td>\n",
       "    </tr>\n",
       "    <tr>\n",
       "      <th>4</th>\n",
       "      <td>1000366164.jpg</td>\n",
       "      <td>[startseq two men one in a gray shirt one in a...</td>\n",
       "    </tr>\n",
       "  </tbody>\n",
       "</table>\n",
       "</div>"
      ],
      "text/plain": [
       "       image_name                                           captions\n",
       "0  1000092795.jpg  [startseq two young guys with shaggy hair look...\n",
       "1    10002456.jpg  [startseq several men in hard hats are operati...\n",
       "2  1000268201.jpg  [startseq a child in a pink dress is climbing ...\n",
       "3  1000344755.jpg  [startseq someone in a blue shirt and hat is s...\n",
       "4  1000366164.jpg  [startseq two men one in a gray shirt one in a..."
      ]
     },
     "execution_count": 20,
     "metadata": {},
     "output_type": "execute_result"
    }
   ],
   "source": [
    "#make image to caption dictionary sort of\n",
    "# image_to_captions= caption_df.groupby(by='image_name').agg(captions= (\"comment_clean\", lambda x: x.tolist())).reset_index()\n",
    "image_to_captions= caption_df.groupby(by='image_name')['comment_clean'].agg([(\"comment_clean\", lambda x: x.tolist())]).reset_index()\n",
    "image_to_captions.rename(columns={\"comment_clean\": \"captions\"}, inplace= True)\n",
    "print(image_to_captions.shape, image_to_captions.columns)\n",
    "image_to_captions.head()"
   ]
  },
  {
   "cell_type": "code",
   "execution_count": 21,
   "metadata": {},
   "outputs": [
    {
     "name": "stdout",
     "output_type": "stream",
     "text": [
      "ORIGINAL TOTAL VOCABULARY SIZE:  18075\n",
      "MAX LEN OF A CAPTION:  80\n"
     ]
    }
   ],
   "source": [
    "maxlen= max(caption_df[\"n_words\"])\n",
    "vocab= np.unique(caption_df[\"comment_clean\"].str.cat(sep= ' ').split(\" \"))\n",
    "print(\"ORIGINAL TOTAL VOCABULARY SIZE: \",len(vocab))\n",
    "print(\"MAX LEN OF A CAPTION: \", maxlen)"
   ]
  },
  {
   "cell_type": "code",
   "execution_count": 22,
   "metadata": {},
   "outputs": [
    {
     "name": "stdout",
     "output_type": "stream",
     "text": [
      "(24154, 2) (6039, 2) (1590, 2)\n"
     ]
    }
   ],
   "source": [
    "#split train, val, and test data\n",
    "# image_to_captions = image_to_captions.sample(frac=1).reset_index(drop=True) #random shuffle the dataframe\n",
    "# image_to_captions.head()\n",
    "# train= image_to_captions[:24000,:]\n",
    "# val= image_to_captions[24000:30000,:]\n",
    "# test= image_to_captions.iloc[30000:, :]\n",
    "(train_val, test) = train_test_split(image_to_captions, test_size=TEST_PERC, random_state=42)\n",
    "(train, val) = train_test_split(train_val, test_size=VAL_PERC, random_state=42)\n",
    "print(train.shape, val.shape, test.shape)"
   ]
  },
  {
   "cell_type": "code",
   "execution_count": 23,
   "metadata": {},
   "outputs": [],
   "source": [
    "def read_image(image_name):\n",
    "    # Convert all the images to size 299x299 as expected by the inception v3 model\n",
    "    img = image.load_img(base_dir+\"flickr30k_images/\"+image_name, target_size=(IMAGE_SIZE, IMAGE_SIZE))\n",
    "    # Convert PIL image to numpy array of 3-dimensions\n",
    "    img = image.img_to_array(img)\n",
    "    # Add one more dimension\n",
    "    img = np.expand_dims(img, axis=0)\n",
    "    # preprocess the images using preprocess_input() from inception module\n",
    "    img = preprocess_input(img)\n",
    "    return img"
   ]
  },
  {
   "cell_type": "code",
   "execution_count": 24,
   "metadata": {},
   "outputs": [],
   "source": [
    "# Load the inception v3 model\n",
    "model = InceptionV3(weights='imagenet', input_shape = (IMAGE_SIZE,IMAGE_SIZE,3))\n",
    "model= Model(model.input, model.layers[-2].output) #we want the output from the layer which has encoded features not from final softmax layer."
   ]
  },
  {
   "cell_type": "code",
   "execution_count": null,
   "metadata": {},
   "outputs": [],
   "source": [
    "# Function to encode a given image into a vector of size (2048, )\n",
    "start = time()\n",
    "def get_image_encoding(img_lst):\n",
    "    all_feat_vecs= []\n",
    "    for img_name in img_lst:\n",
    "        img = read_image(img_name) # preprocess the image\n",
    "        feat_vec = model.predict(img) # Get the encoding vector for the image\n",
    "        feat_vec = np.reshape(feat_vec, feat_vec.shape[1]) # reshape from (1, 2048) to (2048, )\n",
    "        all_feat_vecs.append(feat_vec)\n",
    "    return all_feat_vecs\n",
    "\n",
    "train_img_feats= np.array(get_image_encoding(train[\"image_name\"].tolist()))\n",
    "val_img_feats= np.array(get_image_encoding(val[\"image_name\"].tolist()))\n",
    "test_img_feats= np.array(get_image_encoding(test[\"image_name\"].tolist()))\n",
    "print(\"TIME TAKEN IN SECONDS: \", time()-start)"
   ]
  },
  {
   "cell_type": "code",
   "execution_count": null,
   "metadata": {},
   "outputs": [],
   "source": [
    "# Save the bottleneck train, val, and test features to disk\n",
    "with open(\"Data/Image_encodings/encoded_train_images.pkl\", \"wb\") as encoded_pickle:\n",
    "    pickle.dump(train_img_feats, encoded_pickle)\n",
    "with open(\"Data/Image_encodings/encoded_val_images.pkl\", \"wb\") as encoded_pickle:\n",
    "    pickle.dump(val_img_feats, encoded_pickle)\n",
    "with open(\"Data/Image_encodings/encoded_test_images.pkl\", \"wb\") as encoded_pickle:\n",
    "    pickle.dump(test_img_feats, encoded_pickle)"
   ]
  },
  {
   "cell_type": "code",
   "execution_count": 25,
   "metadata": {},
   "outputs": [],
   "source": [
    "# load train, val and test image encodings from disk to memory\n",
    "train_img_feats = pickle.load(open(\"Data/Image_encodings/encoded_train_images.pkl\", \"rb\"))\n",
    "val_img_feats = pickle.load(open(\"Data/Image_encodings/encoded_val_images.pkl\", \"rb\"))\n",
    "test_img_feats = pickle.load(open(\"Data/Image_encodings/encoded_test_images.pkl\", \"rb\"))"
   ]
  },
  {
   "cell_type": "code",
   "execution_count": 26,
   "metadata": {},
   "outputs": [
    {
     "name": "stdout",
     "output_type": "stream",
     "text": [
      "ORIGINAL VOCABULARY SIZE:  16405\n",
      "VOCABULARY SIZE AFTER FILTERING:  6767\n"
     ]
    }
   ],
   "source": [
    "train_captions= list(chain.from_iterable(train[\"captions\"].tolist()))\n",
    "train_captions_concat= \" \".join(train_captions)\n",
    "train_word_freq= dict(Counter(train_captions_concat.split(\" \")))\n",
    "train_word_freq_filtered= {word:freq for word, freq in train_word_freq.items() if freq >= WORD_COUNT_THRESH} #consider only those words which has count>=10 in train corpus\n",
    "train_word_freq_filtered = dict(sorted(train_word_freq_filtered.items(), key=operator.itemgetter(1), reverse=True)) #sort by word frequency in descending order\n",
    "vocab_train= train_word_freq_filtered.keys()\n",
    "vocab_size = len(vocab_train) + 1 # one for any unknown <'unk'> word/token\n",
    "vocab_size= min(vocab_size, MAX_VOCAB_SIZE) #taking minimum of actual and max vocab size\n",
    "print(\"ORIGINAL VOCABULARY SIZE: \", len(train_word_freq))\n",
    "print(\"VOCABULARY SIZE AFTER FILTERING: \", vocab_size)"
   ]
  },
  {
   "cell_type": "code",
   "execution_count": 27,
   "metadata": {},
   "outputs": [],
   "source": [
    "#generating index to word and word to index dicts which will be used for embedding\n",
    "idxtoword = {}\n",
    "wordtoidx = {}\n",
    "\n",
    "idx = 1\n",
    "for word in vocab_train:\n",
    "    wordtoidx[word] = idx\n",
    "    idxtoword[idx] = word\n",
    "    idx += 1"
   ]
  },
  {
   "cell_type": "code",
   "execution_count": 28,
   "metadata": {},
   "outputs": [],
   "source": [
    "# !head ../input/fasttext-crawl-300d-2m/crawl-300d-2M.vec"
   ]
  },
  {
   "cell_type": "code",
   "execution_count": 29,
   "metadata": {},
   "outputs": [
    {
     "name": "stdout",
     "output_type": "stream",
     "text": [
      "NUMBER OF WORDS IN EMBEDDING FILE:  2000000\n",
      "TIME TAKEN IN SECONDS:  148.79494905471802\n"
     ]
    }
   ],
   "source": [
    "# Load embedding vectors\n",
    "start= time()\n",
    "embeddings_index = {} # empty dictionary\n",
    "f = open(EMBEDDING_FILE, encoding=\"utf-8\")\n",
    "\n",
    "for line in f:\n",
    "    values = line.strip().split()\n",
    "    word = values[0]\n",
    "    coefs = np.asarray(values[1:], dtype='float32')\n",
    "    embeddings_index[word] = coefs\n",
    "f.close()\n",
    "print('NUMBER OF WORDS IN EMBEDDING FILE: ',len(embeddings_index))\n",
    "print(\"TIME TAKEN IN SECONDS: \", time()-start)"
   ]
  },
  {
   "cell_type": "code",
   "execution_count": 30,
   "metadata": {},
   "outputs": [
    {
     "name": "stdout",
     "output_type": "stream",
     "text": [
      "SIZE OF EMBEDDING MATRIX:  (6767, 300)\n"
     ]
    }
   ],
   "source": [
    "#make an embedding matrix\n",
    "start= time()\n",
    "embedding_matrix = np.zeros((vocab_size, EMBEDDING_DIM))\n",
    "for word, i in wordtoidx.items():\n",
    "    if i >= vocab_size: continue\n",
    "    embedding_vector = embeddings_index.get(word)\n",
    "    if embedding_vector is not None: \n",
    "        embedding_matrix[i] = embedding_vector\n",
    "print('SIZE OF EMBEDDING MATRIX: ',embedding_matrix.shape)"
   ]
  },
  {
   "cell_type": "code",
   "execution_count": 31,
   "metadata": {},
   "outputs": [
    {
     "data": {
      "text/html": [
       "<div>\n",
       "<style>\n",
       "    .dataframe thead tr:only-child th {\n",
       "        text-align: right;\n",
       "    }\n",
       "\n",
       "    .dataframe thead th {\n",
       "        text-align: left;\n",
       "    }\n",
       "\n",
       "    .dataframe tbody tr th {\n",
       "        vertical-align: top;\n",
       "    }\n",
       "</style>\n",
       "<table border=\"1\" class=\"dataframe\">\n",
       "  <thead>\n",
       "    <tr style=\"text-align: right;\">\n",
       "      <th></th>\n",
       "      <th>image_name</th>\n",
       "      <th>comment_number</th>\n",
       "      <th>comment</th>\n",
       "      <th>comment_clean</th>\n",
       "      <th>n_chars</th>\n",
       "      <th>n_words</th>\n",
       "    </tr>\n",
       "  </thead>\n",
       "  <tbody>\n",
       "    <tr>\n",
       "      <th>0</th>\n",
       "      <td>1000092795.jpg</td>\n",
       "      <td>0</td>\n",
       "      <td>Two young guys with shaggy hair look at their...</td>\n",
       "      <td>startseq two young guys with shaggy hair look ...</td>\n",
       "      <td>97</td>\n",
       "      <td>18</td>\n",
       "    </tr>\n",
       "    <tr>\n",
       "      <th>1</th>\n",
       "      <td>1000092795.jpg</td>\n",
       "      <td>1</td>\n",
       "      <td>Two young , White males are outside near many...</td>\n",
       "      <td>startseq two young white males are outside nea...</td>\n",
       "      <td>66</td>\n",
       "      <td>11</td>\n",
       "    </tr>\n",
       "    <tr>\n",
       "      <th>2</th>\n",
       "      <td>1000092795.jpg</td>\n",
       "      <td>2</td>\n",
       "      <td>Two men in green shirts are standing in a yard .</td>\n",
       "      <td>startseq two men in green shirts are standing ...</td>\n",
       "      <td>62</td>\n",
       "      <td>12</td>\n",
       "    </tr>\n",
       "    <tr>\n",
       "      <th>3</th>\n",
       "      <td>1000092795.jpg</td>\n",
       "      <td>3</td>\n",
       "      <td>A man in a blue shirt standing in a garden .</td>\n",
       "      <td>startseq a man in a blue shirt standing in a g...</td>\n",
       "      <td>58</td>\n",
       "      <td>12</td>\n",
       "    </tr>\n",
       "    <tr>\n",
       "      <th>4</th>\n",
       "      <td>1000092795.jpg</td>\n",
       "      <td>4</td>\n",
       "      <td>Two friends enjoy time spent together .</td>\n",
       "      <td>startseq two friends enjoy time spent together...</td>\n",
       "      <td>53</td>\n",
       "      <td>8</td>\n",
       "    </tr>\n",
       "  </tbody>\n",
       "</table>\n",
       "</div>"
      ],
      "text/plain": [
       "       image_name comment_number  \\\n",
       "0  1000092795.jpg              0   \n",
       "1  1000092795.jpg              1   \n",
       "2  1000092795.jpg              2   \n",
       "3  1000092795.jpg              3   \n",
       "4  1000092795.jpg              4   \n",
       "\n",
       "                                             comment  \\\n",
       "0   Two young guys with shaggy hair look at their...   \n",
       "1   Two young , White males are outside near many...   \n",
       "2   Two men in green shirts are standing in a yard .   \n",
       "3       A man in a blue shirt standing in a garden .   \n",
       "4            Two friends enjoy time spent together .   \n",
       "\n",
       "                                       comment_clean  n_chars  n_words  \n",
       "0  startseq two young guys with shaggy hair look ...       97       18  \n",
       "1  startseq two young white males are outside nea...       66       11  \n",
       "2  startseq two men in green shirts are standing ...       62       12  \n",
       "3  startseq a man in a blue shirt standing in a g...       58       12  \n",
       "4  startseq two friends enjoy time spent together...       53        8  "
      ]
     },
     "execution_count": 31,
     "metadata": {},
     "output_type": "execute_result"
    }
   ],
   "source": [
    "caption_df.head()"
   ]
  },
  {
   "cell_type": "code",
   "execution_count": 32,
   "metadata": {},
   "outputs": [
    {
     "name": "stdout",
     "output_type": "stream",
     "text": [
      "TIME TAKEN IN SECONDS:  2.0765249729156494\n",
      "SIZE OF EMBEDDING MATRIX:  (6767, 300)\n"
     ]
    }
   ],
   "source": [
    "#This loads embedding with exhaustive search.\n",
    "start= time()\n",
    "def make_embedding_matrix(embeddings_index, wordtoidx, vocab_size): \n",
    "    embedding_matrix = np.zeros((vocab_size, EMBEDDING_DIM), dtype=np.float32)\n",
    "    for word, i in wordtoidx.items():\n",
    "        #if index is larger than vocab_size then we don't have to get the embedding of this word\n",
    "        if i >= vocab_size: continue \n",
    "        #all the words in our vocab is already in lowercase\n",
    "        embedding_vector = embeddings_index.get(word)\n",
    "        if embedding_vector is not None:\n",
    "            embedding_matrix[i] = embedding_vector\n",
    "            continue\n",
    "        # if lowercase word is not found in embedding vector, search for uppercase word\n",
    "        embedding_vector = embeddings_index.get(word.upper())\n",
    "        if embedding_vector is not None:\n",
    "            embedding_matrix[i] = embedding_vector\n",
    "            continue\n",
    "        # if lowercase or uppercase word is not found in embedding vector, search for capitalized word\n",
    "        embedding_vector = embeddings_index.get(word.capitalize())\n",
    "        if embedding_vector is not None:\n",
    "            embedding_matrix[i] = embedding_vector\n",
    "            continue\n",
    "        # if still not found, search for stemmed word using Porter stemmer\n",
    "        embedding_vector = embeddings_index.get(ps.stem(word))\n",
    "        if embedding_vector is not None:\n",
    "            embedding_matrix[i] = embedding_vector\n",
    "            continue\n",
    "        # if still not found, search for stemmed word using Lancaster stemmer\n",
    "        embedding_vector = embeddings_index.get(lc.stem(word))\n",
    "        if embedding_vector is not None:\n",
    "            embedding_matrix[i] = embedding_vector\n",
    "            continue\n",
    "        # if still not found, search for stemmed word using Snowball stemmer\n",
    "        embedding_vector = embeddings_index.get(sb.stem(word))\n",
    "        if embedding_vector is not None:\n",
    "            embedding_matrix[i] = embedding_vector\n",
    "            continue\n",
    "        # if still not found, search for lemmatized word\n",
    "        embedding_vector = embeddings_index.get(lem.lemmatize(word, \"v\"))\n",
    "        if embedding_vector is not None:\n",
    "            embedding_matrix[i] = embedding_vector                 \n",
    "    return embedding_matrix\n",
    "\n",
    "embedding_matrix = make_embedding_matrix(embeddings_index, wordtoidx, vocab_size)\n",
    "print(\"TIME TAKEN IN SECONDS: \", time()-start)\n",
    "print('SIZE OF EMBEDDING MATRIX: ',embedding_matrix.shape)"
   ]
  },
  {
   "cell_type": "code",
   "execution_count": 34,
   "metadata": {},
   "outputs": [],
   "source": [
    "def create_model(embedding_matrix, img_feat_dim, maxlen):\n",
    "    \n",
    "    vocab_size= embedding_matrix.shape[0]\n",
    "    embedding_dim= embedding_matrix.shape[1]\n",
    "    \n",
    "    inp_img = Input(shape=(img_feat_dim,))\n",
    "    encoder_img = Dropout(0.2)(inp_img)\n",
    "    encoder_img = Dense(DENSE_HIDDEN_UNITS, activation='relu')(encoder_img)\n",
    "    inp_text = Input(shape=(maxlen,))\n",
    "#     encoder_text = Embedding(vocab_size, embedding_dim, weights=[embedding_matrix], mask_zero= True, trainable= False)(inp_text)\n",
    "    encoder_text = Embedding(vocab_size, embedding_dim, weights=[embedding_matrix], trainable= False)(inp_text)\n",
    "    encoder_text = SpatialDropout1D(0.3)(encoder_text)\n",
    "#     encoder_text = (GRU(LSTM_UNITS, return_sequences= True))(encoder_text)\n",
    "    encoder_text = (GRU(LSTM_UNITS))(encoder_text)\n",
    "    encoder = concatenate([encoder_img, encoder_text])\n",
    "    decoder = Dense(DENSE_HIDDEN_UNITS, activation='relu')(encoder)\n",
    "    decoder = Dropout(0.2)(decoder)\n",
    "    \n",
    "    output = Dense(vocab_size, activation='softmax')(decoder)\n",
    "    model = Model(inputs = [inp_img, inp_text], outputs=output)\n",
    "    optimizer = Adam(lr= INIT_LR)\n",
    "    model.compile(loss='categorical_crossentropy', optimizer= optimizer, metrics = [\"acc\"])\n",
    "    return model\n"
   ]
  },
  {
   "cell_type": "code",
   "execution_count": 46,
   "metadata": {},
   "outputs": [],
   "source": [
    "# data generator, intended to be used in a call to model.fit_generator()\n",
    "def data_generator(captions, img_feats, wordtoidx, max_length, num_imgs_per_batch):\n",
    "    X1, X2, y = list(), list(), list()\n",
    "    n=0\n",
    "    # loop for ever over images\n",
    "    while 1:\n",
    "        for i in range(captions.shape[0]) :\n",
    "            n+=1\n",
    "            # retrieve the photo feature\n",
    "            img = img_feats[i]\n",
    "            captions_lst= captions.iloc[i,:][\"captions\"]\n",
    "            for caption in captions_lst:\n",
    "                # encode the sequence\n",
    "                seq = [wordtoidx[word] for word in caption.split(' ') if word in wordtoidx]\n",
    "                # split one sequence into multiple X, y pairs\n",
    "                for i in range(1, len(seq)):\n",
    "                    # split into input and output pair\n",
    "                    in_seq, out_seq = seq[:i], seq[i]\n",
    "                    # pad input sequence\n",
    "                    in_seq = pad_sequences([in_seq], maxlen=max_length)[0]\n",
    "                    # encode output sequence\n",
    "                    out_seq = to_categorical([out_seq], num_classes=vocab_size)[0]\n",
    "                    # store\n",
    "                    X1.append(img)\n",
    "                    X2.append(in_seq)\n",
    "                    y.append(out_seq)\n",
    "            # yield the batch data\n",
    "            if n==num_imgs_per_batch:\n",
    "                yield [[np.array(X1), np.array(X2)], np.array(y)]\n",
    "                X1, X2, y = list(), list(), list()\n",
    "                n=0"
   ]
  },
  {
   "cell_type": "code",
   "execution_count": 40,
   "metadata": {},
   "outputs": [],
   "source": [
    "####### run this for testing the data_generator function ############\n",
    "# for aa in data_generator(train.iloc[:7,:], train_img_feats[:7], wordtoidx, maxlen, 3):\n",
    "#     print(aa[0][0].shape, aa[0][1].shape, aa[1].shape,  np.max(aa[0][0]), np.max(aa[0][1]), np.max(aa[1]), np.min(aa[1]))"
   ]
  },
  {
   "cell_type": "code",
   "execution_count": 41,
   "metadata": {},
   "outputs": [],
   "source": [
    "# this callback function is used to plot the training/val accuracy and losses while training\n",
    "class TrainingPlot(Callback):\n",
    "\n",
    "    def __init__(self, filename='output/training_plot.jpg'):\n",
    "        self.filename = filename\n",
    "\n",
    "    # This function is called when the training begins\n",
    "    def on_train_begin(self, logs={}):\n",
    "        # Initialize the lists for holding the logs, losses and accuracies\n",
    "        self.losses = []\n",
    "        self.acc = []\n",
    "        self.val_losses = []\n",
    "        self.val_acc = []\n",
    "        self.logs = []\n",
    "\n",
    "    # This function is called at the end of each epoch\n",
    "    def on_epoch_end(self, epoch, logs={}):\n",
    "\n",
    "        # Append the logs, losses and accuracies to the lists\n",
    "        self.logs.append(logs)\n",
    "        self.losses.append(logs.get('loss'))\n",
    "        self.acc.append(logs.get('acc'))\n",
    "        self.val_losses.append(logs.get('val_loss'))\n",
    "        self.val_acc.append(logs.get('val_acc'))\n",
    "\n",
    "        # Before plotting ensure at least 2 epochs have passed\n",
    "        if len(self.losses) > 1:\n",
    "            \n",
    "            # Clear the previous plot\n",
    "            clear_output(wait=True)\n",
    "            N = np.arange(1, len(self.losses)+1)\n",
    "\n",
    "            # You can chose the style of your preference\n",
    "            # print(plt.style.available) to see the available options\n",
    "            plt.style.use(\"seaborn\")\n",
    "\n",
    "            # Plot train loss, train acc, val loss and val acc against epochs passed\n",
    "            fig = plt.figure(figsize= (25,12))\n",
    "            plt.plot(N, self.losses, label = \"train_loss\")\n",
    "            plt.plot(N, self.acc, label = \"train_acc\")\n",
    "            plt.plot(N, self.val_losses, label = \"val_loss\")\n",
    "            plt.plot(N, self.val_acc, label = \"val_acc\")\n",
    "            plt.title(\"Training Loss and Accuracy [Epoch {}]\".format(epoch+1))\n",
    "            plt.xlabel(\"Epoch #\")\n",
    "            plt.ylabel(\"Loss/Accuracy\")\n",
    "            plt.legend()\n",
    "            plt.show()\n",
    "            # Make sure there exists a folder called output in the current directory\n",
    "            # or replace 'output' with whatever direcory you want to put in the plots\n",
    "        if epoch == (N_EPOCHS -1):\n",
    "            fig.savefig(self.filename)\n",
    "            plt.close()"
   ]
  },
  {
   "cell_type": "code",
   "execution_count": 42,
   "metadata": {},
   "outputs": [],
   "source": [
    "#Implementation\n",
    "#Both finding the optimal range of learning rates and assigning a learning rate schedule can be implemented quite trivially using Keras Callbacks.\n",
    "#Finding the optimal learning rate range\n",
    "#We can write a Keras Callback which tracks the loss associated with a learning rate varied linearly over a defined range.\n",
    "\n",
    "class LRFinder(Callback):\n",
    "    \n",
    "    '''\n",
    "    A simple callback for finding the optimal learning rate range for your model + dataset. \n",
    "    \n",
    "    # Usage\n",
    "        ```python\n",
    "            lr_finder = LRFinder(min_lr=1e-5, \n",
    "                                 max_lr=1e-2, \n",
    "                                 steps_per_epoch=np.ceil(epoch_size/batch_size), \n",
    "                                 epochs=3)\n",
    "            model.fit(X_train, Y_train, callbacks=[lr_finder])\n",
    "            \n",
    "            lr_finder.plot_loss()\n",
    "        ```\n",
    "    \n",
    "    # Arguments\n",
    "        min_lr: The lower bound of the learning rate range for the experiment.\n",
    "        max_lr: The upper bound of the learning rate range for the experiment.\n",
    "        steps_per_epoch: Number of mini-batches in the dataset. Calculated as `np.ceil(epoch_size/batch_size)`. \n",
    "        epochs: Number of epochs to run experiment. Usually between 2 and 4 epochs is sufficient. \n",
    "        \n",
    "    # References\n",
    "        Blog post: jeremyjordan.me/nn-learning-rate\n",
    "        Original paper: https://arxiv.org/abs/1506.01186\n",
    "    '''\n",
    "\n",
    "    def __init__(self, min_lr=1e-5, max_lr=1e-2, steps_per_epoch=None, epochs=None):\n",
    "        super().__init__()\n",
    "        \n",
    "        self.min_lr = min_lr\n",
    "        self.max_lr = max_lr\n",
    "        self.total_iterations = steps_per_epoch * epochs\n",
    "        self.iteration = 0\n",
    "        self.history = {}\n",
    "        \n",
    "    def clr(self):\n",
    "        '''Calculate the learning rate.'''\n",
    "        x = self.iteration / self.total_iterations \n",
    "        return self.min_lr + (self.max_lr-self.min_lr) * x\n",
    "        \n",
    "    def on_train_begin(self, logs=None):\n",
    "        '''Initialize the learning rate to the minimum value at the start of training.'''\n",
    "        logs = logs or {}\n",
    "        K.set_value(self.model.optimizer.lr, self.min_lr)\n",
    "        \n",
    "    def on_batch_end(self, epoch, logs=None):\n",
    "        '''Record previous batch statistics and update the learning rate.'''\n",
    "        logs = logs or {}\n",
    "        self.iteration += 1\n",
    "\n",
    "        self.history.setdefault('lr', []).append(K.get_value(self.model.optimizer.lr))\n",
    "        self.history.setdefault('iterations', []).append(self.iteration)\n",
    "\n",
    "        for k, v in logs.items():\n",
    "            self.history.setdefault(k, []).append(v)\n",
    "            \n",
    "        K.set_value(self.model.optimizer.lr, self.clr())\n",
    "    \n",
    "    def plot_lr(self):\n",
    "        '''Helper function to quickly inspect the learning rate schedule.'''\n",
    "        plt.plot(self.history['iterations'], self.history['lr'])\n",
    "        plt.yscale('log')\n",
    "        plt.xlabel('Iteration')\n",
    "        plt.ylabel('Learning rate')\n",
    "        \n",
    "    def plot_loss(self):\n",
    "        '''Helper function to quickly observe the learning rate experiment results.'''\n",
    "        plt.plot(self.history['lr'], self.history['loss'])\n",
    "        plt.xscale('log')\n",
    "        plt.xlabel('Learning rate')\n",
    "        plt.ylabel('Loss')\n"
   ]
  },
  {
   "cell_type": "code",
   "execution_count": 43,
   "metadata": {},
   "outputs": [],
   "source": [
    "class SGDRScheduler(Callback):\n",
    "    '''Cosine annealing learning rate scheduler with periodic restarts.\n",
    "    # Usage\n",
    "        ```python\n",
    "            schedule = SGDRScheduler(min_lr=1e-5,\n",
    "                                     max_lr=1e-2,\n",
    "                                     steps_per_epoch=np.ceil(epoch_size/batch_size),\n",
    "                                     lr_decay=0.9,\n",
    "                                     cycle_length=5,\n",
    "                                     mult_factor=1.5)\n",
    "            model.fit(X_train, Y_train, epochs=100, callbacks=[schedule])\n",
    "        ```\n",
    "    # Arguments\n",
    "        min_lr: The lower bound of the learning rate range for the experiment.\n",
    "        max_lr: The upper bound of the learning rate range for the experiment.\n",
    "        steps_per_epoch: Number of mini-batches in the dataset. Calculated as `np.ceil(epoch_size/batch_size)`. \n",
    "        lr_decay: Reduce the max_lr after the completion of each cycle.\n",
    "                  Ex. To reduce the max_lr by 20% after each cycle, set this value to 0.8.\n",
    "        cycle_length: Initial number of epochs in a cycle.\n",
    "        mult_factor: Scale epochs_to_restart after each full cycle completion.\n",
    "    # References\n",
    "        Blog post: jeremyjordan.me/nn-learning-rate\n",
    "        Original paper: http://arxiv.org/abs/1608.03983\n",
    "    '''\n",
    "    def __init__(self,\n",
    "                 min_lr,\n",
    "                 max_lr,\n",
    "                 steps_per_epoch,\n",
    "                 lr_decay=1,\n",
    "                 cycle_length=10,\n",
    "                 mult_factor=2):\n",
    "\n",
    "        self.min_lr = min_lr\n",
    "        self.max_lr = max_lr\n",
    "        self.lr_decay = lr_decay\n",
    "        self.batch_since_restart = 0\n",
    "        self.next_restart = cycle_length\n",
    "        self.steps_per_epoch = steps_per_epoch\n",
    "        self.cycle_length = cycle_length\n",
    "        self.mult_factor = mult_factor\n",
    "        self.history = {}\n",
    "        \n",
    "    def clr(self):\n",
    "        '''Calculate the learning rate.'''\n",
    "        fraction_to_restart = self.batch_since_restart / (self.steps_per_epoch * self.cycle_length)\n",
    "        lr = self.min_lr + 0.5 * (self.max_lr - self.min_lr) * (1 + np.cos(fraction_to_restart * np.pi))\n",
    "        return lr\n",
    "\n",
    "    def on_train_begin(self, logs={}):\n",
    "        '''Initialize the learning rate to the minimum value at the start of training.'''\n",
    "        logs = logs or {}\n",
    "        K.set_value(self.model.optimizer.lr, self.max_lr)\n",
    "\n",
    "    def on_batch_end(self, batch, logs={}):\n",
    "        '''Record previous batch statistics and update the learning rate.'''\n",
    "        logs = logs or {}\n",
    "        self.history.setdefault('lr', []).append(K.get_value(self.model.optimizer.lr))\n",
    "        for k, v in logs.items():\n",
    "            self.history.setdefault(k, []).append(v)\n",
    "        self.batch_since_restart += 1\n",
    "        K.set_value(self.model.optimizer.lr, self.clr())\n",
    "\n",
    "    def on_epoch_end(self, epoch, logs={}):\n",
    "        '''Check for end of current cycle, apply restarts when necessary.'''\n",
    "        if epoch + 1 == self.next_restart:\n",
    "            self.batch_since_restart = 0\n",
    "            self.cycle_length = np.ceil(self.cycle_length * self.mult_factor)\n",
    "            self.next_restart += self.cycle_length\n",
    "            self.max_lr *= self.lr_decay\n",
    "            self.best_weights = self.model.get_weights()\n",
    "            \n",
    "    def on_train_end(self, logs={}):\n",
    "        '''Set weights to the values from the end of the most recent cycle for best performance.'''\n",
    "        self.model.set_weights(self.best_weights)\n"
   ]
  },
  {
   "cell_type": "code",
   "execution_count": 47,
   "metadata": {},
   "outputs": [
    {
     "name": "stdout",
     "output_type": "stream",
     "text": [
      "Epoch 1/1\n",
      "2415/2416 [============================>.] - ETA: 0s - loss: 4.7740 - acc: 0.2269\n",
      "Epoch 00001: val_loss improved from inf to 4.07999, saving model to Data/Model/CheckpointModel_without_attention_5_1_5e-3.h5\n"
     ]
    },
    {
     "ename": "UnboundLocalError",
     "evalue": "local variable 'fig' referenced before assignment",
     "output_type": "error",
     "traceback": [
      "\u001b[0;31m---------------------------------------------------------------------------\u001b[0m",
      "\u001b[0;31mUnboundLocalError\u001b[0m                         Traceback (most recent call last)",
      "\u001b[0;32m<ipython-input-47-48bd4c8bd779>\u001b[0m in \u001b[0;36m<module>\u001b[0;34m()\u001b[0m\n\u001b[1;32m     27\u001b[0m \u001b[0;34m\u001b[0m\u001b[0m\n\u001b[1;32m     28\u001b[0m history= model.fit_generator(train_generator, validation_data= val_generator, epochs= N_EPOCHS, steps_per_epoch=steps_per_epoch, \n\u001b[0;32m---> 29\u001b[0;31m                              validation_steps= val_steps, callbacks=callbacks_list, verbose=1)\n\u001b[0m\u001b[1;32m     30\u001b[0m                             \u001b[0;31m# use_multiprocessing=True, workers=4)\u001b[0m\u001b[0;34m\u001b[0m\u001b[0;34m\u001b[0m\u001b[0m\n\u001b[1;32m     31\u001b[0m \u001b[0mmodel\u001b[0m\u001b[0;34m.\u001b[0m\u001b[0msave_weights\u001b[0m\u001b[0;34m(\u001b[0m\u001b[0;34m'Data/Model/FinalModel_without_attention_5_1_5e-3.h5'\u001b[0m\u001b[0;34m)\u001b[0m\u001b[0;34m\u001b[0m\u001b[0m\n",
      "\u001b[0;32m/libs/base/keras/legacy/interfaces.py\u001b[0m in \u001b[0;36mwrapper\u001b[0;34m(*args, **kwargs)\u001b[0m\n\u001b[1;32m     89\u001b[0m                 warnings.warn('Update your `' + object_name +\n\u001b[1;32m     90\u001b[0m                               '` call to the Keras 2 API: ' + signature, stacklevel=2)\n\u001b[0;32m---> 91\u001b[0;31m             \u001b[0;32mreturn\u001b[0m \u001b[0mfunc\u001b[0m\u001b[0;34m(\u001b[0m\u001b[0;34m*\u001b[0m\u001b[0margs\u001b[0m\u001b[0;34m,\u001b[0m \u001b[0;34m**\u001b[0m\u001b[0mkwargs\u001b[0m\u001b[0;34m)\u001b[0m\u001b[0;34m\u001b[0m\u001b[0m\n\u001b[0m\u001b[1;32m     92\u001b[0m         \u001b[0mwrapper\u001b[0m\u001b[0;34m.\u001b[0m\u001b[0m_original_function\u001b[0m \u001b[0;34m=\u001b[0m \u001b[0mfunc\u001b[0m\u001b[0;34m\u001b[0m\u001b[0m\n\u001b[1;32m     93\u001b[0m         \u001b[0;32mreturn\u001b[0m \u001b[0mwrapper\u001b[0m\u001b[0;34m\u001b[0m\u001b[0m\n",
      "\u001b[0;32m/libs/base/keras/engine/training.py\u001b[0m in \u001b[0;36mfit_generator\u001b[0;34m(self, generator, steps_per_epoch, epochs, verbose, callbacks, validation_data, validation_steps, class_weight, max_queue_size, workers, use_multiprocessing, shuffle, initial_epoch)\u001b[0m\n\u001b[1;32m   2211\u001b[0m                         \u001b[0;32mbreak\u001b[0m\u001b[0;34m\u001b[0m\u001b[0m\n\u001b[1;32m   2212\u001b[0m \u001b[0;34m\u001b[0m\u001b[0m\n\u001b[0;32m-> 2213\u001b[0;31m                 \u001b[0mcallbacks\u001b[0m\u001b[0;34m.\u001b[0m\u001b[0mon_epoch_end\u001b[0m\u001b[0;34m(\u001b[0m\u001b[0mepoch\u001b[0m\u001b[0;34m,\u001b[0m \u001b[0mepoch_logs\u001b[0m\u001b[0;34m)\u001b[0m\u001b[0;34m\u001b[0m\u001b[0m\n\u001b[0m\u001b[1;32m   2214\u001b[0m                 \u001b[0mepoch\u001b[0m \u001b[0;34m+=\u001b[0m \u001b[0;36m1\u001b[0m\u001b[0;34m\u001b[0m\u001b[0m\n\u001b[1;32m   2215\u001b[0m                 \u001b[0;32mif\u001b[0m \u001b[0mcallback_model\u001b[0m\u001b[0;34m.\u001b[0m\u001b[0mstop_training\u001b[0m\u001b[0;34m:\u001b[0m\u001b[0;34m\u001b[0m\u001b[0m\n",
      "\u001b[0;32m/libs/base/keras/callbacks.py\u001b[0m in \u001b[0;36mon_epoch_end\u001b[0;34m(self, epoch, logs)\u001b[0m\n\u001b[1;32m     74\u001b[0m         \u001b[0mlogs\u001b[0m \u001b[0;34m=\u001b[0m \u001b[0mlogs\u001b[0m \u001b[0;32mor\u001b[0m \u001b[0;34m{\u001b[0m\u001b[0;34m}\u001b[0m\u001b[0;34m\u001b[0m\u001b[0m\n\u001b[1;32m     75\u001b[0m         \u001b[0;32mfor\u001b[0m \u001b[0mcallback\u001b[0m \u001b[0;32min\u001b[0m \u001b[0mself\u001b[0m\u001b[0;34m.\u001b[0m\u001b[0mcallbacks\u001b[0m\u001b[0;34m:\u001b[0m\u001b[0;34m\u001b[0m\u001b[0m\n\u001b[0;32m---> 76\u001b[0;31m             \u001b[0mcallback\u001b[0m\u001b[0;34m.\u001b[0m\u001b[0mon_epoch_end\u001b[0m\u001b[0;34m(\u001b[0m\u001b[0mepoch\u001b[0m\u001b[0;34m,\u001b[0m \u001b[0mlogs\u001b[0m\u001b[0;34m)\u001b[0m\u001b[0;34m\u001b[0m\u001b[0m\n\u001b[0m\u001b[1;32m     77\u001b[0m \u001b[0;34m\u001b[0m\u001b[0m\n\u001b[1;32m     78\u001b[0m     \u001b[0;32mdef\u001b[0m \u001b[0mon_batch_begin\u001b[0m\u001b[0;34m(\u001b[0m\u001b[0mself\u001b[0m\u001b[0;34m,\u001b[0m \u001b[0mbatch\u001b[0m\u001b[0;34m,\u001b[0m \u001b[0mlogs\u001b[0m\u001b[0;34m=\u001b[0m\u001b[0;32mNone\u001b[0m\u001b[0;34m)\u001b[0m\u001b[0;34m:\u001b[0m\u001b[0;34m\u001b[0m\u001b[0m\n",
      "\u001b[0;32m<ipython-input-41-97bee9b899d5>\u001b[0m in \u001b[0;36mon_epoch_end\u001b[0;34m(self, epoch, logs)\u001b[0m\n\u001b[1;32m     49\u001b[0m             \u001b[0;31m# or replace 'output' with whatever direcory you want to put in the plots\u001b[0m\u001b[0;34m\u001b[0m\u001b[0;34m\u001b[0m\u001b[0m\n\u001b[1;32m     50\u001b[0m         \u001b[0;32mif\u001b[0m \u001b[0mepoch\u001b[0m \u001b[0;34m==\u001b[0m \u001b[0;34m(\u001b[0m\u001b[0mN_EPOCHS\u001b[0m \u001b[0;34m-\u001b[0m\u001b[0;36m1\u001b[0m\u001b[0;34m)\u001b[0m\u001b[0;34m:\u001b[0m\u001b[0;34m\u001b[0m\u001b[0m\n\u001b[0;32m---> 51\u001b[0;31m             \u001b[0mfig\u001b[0m\u001b[0;34m.\u001b[0m\u001b[0msavefig\u001b[0m\u001b[0;34m(\u001b[0m\u001b[0mself\u001b[0m\u001b[0;34m.\u001b[0m\u001b[0mfilename\u001b[0m\u001b[0;34m)\u001b[0m\u001b[0;34m\u001b[0m\u001b[0m\n\u001b[0m\u001b[1;32m     52\u001b[0m             \u001b[0mplt\u001b[0m\u001b[0;34m.\u001b[0m\u001b[0mclose\u001b[0m\u001b[0;34m(\u001b[0m\u001b[0;34m)\u001b[0m\u001b[0;34m\u001b[0m\u001b[0m\n",
      "\u001b[0;31mUnboundLocalError\u001b[0m: local variable 'fig' referenced before assignment"
     ]
    }
   ],
   "source": [
    "start= time()\n",
    "file_path = \"Data/Model/CheckpointModel_without_attention_5_1_5e-3.h5\"\n",
    "steps_per_epoch = np.ceil(train.shape[0]/NUM_IMGS_PER_BATCH)\n",
    "val_steps= np.ceil(val.shape[0]/NUM_IMGS_PER_BATCH)\n",
    "\n",
    "checkpoint = ModelCheckpoint(file_path, monitor='val_loss', verbose=1, save_best_only=True, mode='min')\n",
    "reduce_on_plateau = ReduceLROnPlateau(monitor=\"val_loss\", mode=\"min\", factor=0.2, patience=2, verbose=1)\n",
    "\n",
    "lr_finder = LRFinder(min_lr=1e-5, \n",
    "                    max_lr=1e-2, \n",
    "                    steps_per_epoch=steps_per_epoch, \n",
    "                    epochs= N_EPOCHS)\n",
    "\n",
    "schedule = SGDRScheduler(min_lr=5e-5,\n",
    "                        max_lr=1e-2,\n",
    "                        steps_per_epoch=steps_per_epoch,\n",
    "                        lr_decay=0.8,\n",
    "                        cycle_length=1,\n",
    "                        mult_factor=2)\n",
    "\n",
    "# lr_sched = [LearningRateScheduler(lambda _: init_lr * (lr_scaling_factor ** epoch))]\n",
    "plot_losses = TrainingPlot()\n",
    "callbacks_list = [checkpoint, reduce_on_plateau, schedule, plot_losses]\n",
    "model = create_model(embedding_matrix, train_img_feats.shape[1], maxlen)\n",
    "train_generator= data_generator(train, train_img_feats, wordtoidx, maxlen, NUM_IMGS_PER_BATCH)\n",
    "val_generator= data_generator(val, val_img_feats, wordtoidx, maxlen, NUM_IMGS_PER_BATCH)\n",
    "\n",
    "history= model.fit_generator(train_generator, validation_data= val_generator, epochs= N_EPOCHS, steps_per_epoch=steps_per_epoch, \n",
    "                             validation_steps= val_steps, callbacks=callbacks_list, verbose=1)\n",
    "                            # use_multiprocessing=True, workers=4)\n",
    "model.save_weights('Data/Model/FinalModel_without_attention_5_1_5e-3.h5')\n",
    "print(\"TIME TAKEN IN SECONDS: \", time()-start)"
   ]
  },
  {
   "cell_type": "code",
   "execution_count": 37,
   "metadata": {},
   "outputs": [],
   "source": [
    "model = create_model(embedding_matrix, train_img_feats.shape[1], maxlen)\n",
    "model.load_weights('Data/Model/CheckpointModel_without_attention_10_10_5e-3.h5')"
   ]
  },
  {
   "cell_type": "code",
   "execution_count": 51,
   "metadata": {},
   "outputs": [
    {
     "name": "stdout",
     "output_type": "stream",
     "text": [
      "Epoch 1/1\n",
      "2416/2416 [==============================] - 540s 223ms/step - loss: 4.2614 - acc: 0.2798 - val_loss: 4.0575 - val_acc: 0.2956\n"
     ]
    }
   ],
   "source": [
    "model.optimizer.lr= 0.00001\n",
    "history1= model.fit_generator(train_generator, validation_data= val_generator, epochs= 1, steps_per_epoch=steps_per_epoch,\n",
    "                             validation_steps= val_steps, verbose=1)"
   ]
  },
  {
   "cell_type": "code",
   "execution_count": null,
   "metadata": {},
   "outputs": [],
   "source": [
    "def predict_greedySearch(photo):\n",
    "    in_text = 'startseq'\n",
    "    for i in range(maxlen):\n",
    "        sequence = [wordtoidx[w] for w in in_text.split() if w in wordtoidx]\n",
    "        sequence = pad_sequences([sequence], maxlen=maxlen)\n",
    "        yhat = model.predict([photo,sequence], verbose=0)\n",
    "        yhat = np.argmax(yhat)\n",
    "        word = idxtoword[yhat]\n",
    "        in_text += ' ' + word\n",
    "#         print(in_text)\n",
    "        if word == 'endseq':\n",
    "            break\n",
    "    final = in_text.split()\n",
    "    final = final[1:-1]\n",
    "    final = ' '.join(final)\n",
    "    return final\n"
   ]
  },
  {
   "cell_type": "code",
   "execution_count": null,
   "metadata": {},
   "outputs": [],
   "source": [
    "z = 1386\n",
    "img_feat = train_img_feats[z].reshape((1,2048))\n",
    "test_img= train.iloc[z, :][\"image_name\"]\n",
    "x=plt.imread(\"Data/flickr30k_images/flickr30k_images/\"+test_img)\n",
    "plt.imshow(x)\n",
    "plt.show()\n",
    "print(\"Greedy:\",predict_greedySearch(img_feat))\n",
    "test.iloc[z, :][\"captions\"]"
   ]
  },
  {
   "cell_type": "code",
   "execution_count": 56,
   "metadata": {},
   "outputs": [
    {
     "data": {
      "text/plain": [
       "['startseq a baby on the floor laughing at an older another child endseq',\n",
       " 'startseq an older sibling and a baby in the living room endseq',\n",
       " 'startseq a cute baby is smiling at another child endseq',\n",
       " 'startseq a boy looks on as a baby laughs endseq',\n",
       " 'startseq toddler playing with baby endseq']"
      ]
     },
     "execution_count": 56,
     "metadata": {},
     "output_type": "execute_result"
    }
   ],
   "source": [
    "test.iloc[z, :][\"captions\"]"
   ]
  }
 ],
 "metadata": {
  "kernelspec": {
   "display_name": "Python 3",
   "language": "python",
   "name": "python3"
  },
  "language_info": {
   "codemirror_mode": {
    "name": "ipython",
    "version": 3
   },
   "file_extension": ".py",
   "mimetype": "text/x-python",
   "name": "python",
   "nbconvert_exporter": "python",
   "pygments_lexer": "ipython3",
   "version": "3.6.8"
  }
 },
 "nbformat": 4,
 "nbformat_minor": 4
}
